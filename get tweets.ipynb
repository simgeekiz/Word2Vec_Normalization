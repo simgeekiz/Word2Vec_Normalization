{
 "cells": [
  {
   "cell_type": "code",
   "execution_count": 68,
   "metadata": {},
   "outputs": [],
   "source": [
    "from __future__ import unicode_literals\n",
    "import json\n",
    "import tweepy\n",
    "#import generic_io as gi"
   ]
  },
  {
   "cell_type": "code",
   "execution_count": 69,
   "metadata": {},
   "outputs": [],
   "source": [
    "CONSUMER_KEY = 'bCszyxpfYJ6G4BLSywBPks1Ak'\n",
    "CONSUMER_SECRET = 'xNbosp2Mwl5iapci6mXDCw5ChEKlhPEBpZ0ZCvYkULkUQOz5Rd'\n",
    "OAUTH_TOKEN = '184379404-Y2GoTXEnXAT8kTDlTuvo61mzRihLpuYPurkf4eVA'\n",
    "OAUTH_TOKEN_SECRET = 'NphP4QC4eGalKtbZ3FzW69Lf1h1zfBUw0AVkWBstBvIgc'"
   ]
  },
  {
   "cell_type": "code",
   "execution_count": 134,
   "metadata": {},
   "outputs": [],
   "source": [
    "auth = tweepy.OAuthHandler(CONSUMER_KEY, CONSUMER_SECRET)\n",
    "auth.set_access_token(OAUTH_TOKEN, OAUTH_TOKEN_SECRET)\n",
    "api = tweepy.API(auth, wait_on_rate_limit=True)"
   ]
  },
  {
   "cell_type": "code",
   "execution_count": 135,
   "metadata": {},
   "outputs": [
    {
     "name": "stdout",
     "output_type": "stream",
     "text": [
      "step: 1\n",
      "number of tweets: 146\n",
      "Rejected tweets len: 13\n",
      "step: 2\n",
      "number of tweets: 121\n",
      "Rejected tweets len: 15\n",
      "step: 3\n",
      "number of tweets: 1242\n",
      "Rejected tweets len: 108\n",
      "step: 4\n",
      "number of tweets: 196\n",
      "Rejected tweets len: 16\n"
     ]
    }
   ],
   "source": [
    "rejected_tids = {}\n",
    "for step in range(1,5):\n",
    "    print(\"step:\", step)\n",
    "    tweetids = open(\"veri/training/tweetids/SMERP-T\" + str(step) + \"-level1-tweetids.txt\", \"r\").readlines()\n",
    "    savefile = open(\"veri/training/tweets/SMERP-T\" + str(step) + \"-level1-tweets.jsonl\", \"w\")\n",
    "    tweetids = [t.strip() for t in tweetids]\n",
    "    print(\"number of tweets:\", len(tweetids))\n",
    "    rejected_tids['T' + str(step)] = []\n",
    "    for tweetid in tweetids:\n",
    "        try:\n",
    "            tweet = api.get_status(tweetid)\n",
    "            savefile.write(json.dumps(tweet._json) + \"\\n\")\n",
    "        except:\n",
    "            rejected_tids['T' + str(step)].append(tweetid)\n",
    "    print(\"Rejected tweets len:\", len(rejected_tids['T' + str(step)]))"
   ]
  }
 ],
 "metadata": {
  "kernelspec": {
   "display_name": "Python 3",
   "language": "python",
   "name": "python3"
  },
  "language_info": {
   "codemirror_mode": {
    "name": "ipython",
    "version": 3
   },
   "file_extension": ".py",
   "mimetype": "text/x-python",
   "name": "python",
   "nbconvert_exporter": "python",
   "pygments_lexer": "ipython3",
   "version": "3.5.2"
  }
 },
 "nbformat": 4,
 "nbformat_minor": 2
}
