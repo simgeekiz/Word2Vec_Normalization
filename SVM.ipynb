{
 "cells": [
  {
   "cell_type": "code",
   "execution_count": 26,
   "metadata": {},
   "outputs": [],
   "source": [
    "import re\n",
    "import numpy as np\n",
    "import pandas as pd\n",
    "import generic_io as gi\n",
    "from collections import defaultdict"
   ]
  },
  {
   "cell_type": "code",
   "execution_count": 27,
   "metadata": {},
   "outputs": [],
   "source": [
    "from nltk.corpus import stopwords\n",
    "from nltk.tokenize import TweetTokenizer"
   ]
  },
  {
   "cell_type": "code",
   "execution_count": 28,
   "metadata": {},
   "outputs": [],
   "source": [
    "import editdistance\n",
    "from langdetect import detect"
   ]
  },
  {
   "cell_type": "code",
   "execution_count": 29,
   "metadata": {},
   "outputs": [],
   "source": [
    "from sklearn.metrics import make_scorer\n",
    "from sklearn.model_selection import cross_validate\n",
    "from sklearn.metrics import precision_score, recall_score"
   ]
  },
  {
   "cell_type": "code",
   "execution_count": 30,
   "metadata": {},
   "outputs": [],
   "source": [
    "from sklearn.svm import LinearSVC\n",
    "from sklearn.pipeline import Pipeline\n",
    "from sklearn.feature_extraction.text import TfidfVectorizer\n",
    "# from sklearn.feature_selection import SelectPercentile, chi2"
   ]
  },
  {
   "cell_type": "markdown",
   "metadata": {},
   "source": [
    "### Variable Init"
   ]
  },
  {
   "cell_type": "code",
   "execution_count": 31,
   "metadata": {},
   "outputs": [],
   "source": [
    "tknzr = TweetTokenizer()"
   ]
  },
  {
   "cell_type": "raw",
   "metadata": {},
   "source": [
    "stopWords = set(stopwords.words('english'))"
   ]
  },
  {
   "cell_type": "code",
   "execution_count": 32,
   "metadata": {},
   "outputs": [],
   "source": [
    "scoring = {'precision': make_scorer(precision_score, average='weighted'),\n",
    "           'recall': make_scorer(recall_score, average='weighted')}"
   ]
  },
  {
   "cell_type": "markdown",
   "metadata": {},
   "source": [
    "##### Load the word2vec model"
   ]
  },
  {
   "cell_type": "code",
   "execution_count": 33,
   "metadata": {},
   "outputs": [],
   "source": [
    "model = gi.load_from_file(file_path='veri/models/w2v_model_earthquake_76516.bin', file_format='pickle')"
   ]
  },
  {
   "cell_type": "code",
   "execution_count": 36,
   "metadata": {},
   "outputs": [
    {
     "data": {
      "text/plain": [
       "43867"
      ]
     },
     "execution_count": 36,
     "metadata": {},
     "output_type": "execute_result"
    }
   ],
   "source": [
    "len(model.wv.vocab)"
   ]
  },
  {
   "cell_type": "markdown",
   "metadata": {},
   "source": [
    "### Read tweets"
   ]
  },
  {
   "cell_type": "code",
   "execution_count": 9,
   "metadata": {},
   "outputs": [],
   "source": [
    "def modify_tweet(text):\n",
    "    text = re.sub(\"https?[^\\s]*\", \" http://someurl \", text)\n",
    "    text = re.sub(\"(?<!\\w)@\\w{1,15}(?!\\w)\", \" @someuser \", text)\n",
    "#     text = re.sub(\"\\s\\d*(\\.|\\:)?\\d*\\s\", \" digit \", text)\n",
    "    text = re.sub(\"(\\d+(/|-)\\d+(/|-)\\d+)\", \" date \", text)\n",
    "    text = re.sub(\"\\s\\d?\\d(:|,|.)\\d\\d\\s?(A|a|P|p)(M|m)\", \" clock \", text)\n",
    "#     text = emoji_pattern.sub('[\\U0001f600-\\U0001f650]', \"\", text)\n",
    "    text = re.sub('#.*(\\s|\\n)', \"\", text)\n",
    "    tokenized_tweet = tknzr.tokenize(text.lower())\n",
    "    return tokenized_tweet"
   ]
  },
  {
   "cell_type": "code",
   "execution_count": 10,
   "metadata": {},
   "outputs": [],
   "source": [
    "def load_data():\n",
    "    tweets = []\n",
    "    for level in range(1,3):\n",
    "        for step in range(1,5):\n",
    "            T1 = gi.load_from_file(file_path='veri/training/tweets/SMERP-T' + str(step) + '-level' + str(level) + '-tweets.jsonl', file_format='jsonl')\n",
    "            for t in T1:\n",
    "                tokenized_tweet = modify_tweet(t['text'])\n",
    "                row = {'text': tokenized_tweet, 'label': step}\n",
    "                if row not in tweets:\n",
    "                    tweets.append(row)    \n",
    "    return pd.DataFrame(tweets)"
   ]
  },
  {
   "cell_type": "code",
   "execution_count": 11,
   "metadata": {},
   "outputs": [],
   "source": [
    "tdf = load_data()"
   ]
  },
  {
   "cell_type": "code",
   "execution_count": 12,
   "metadata": {},
   "outputs": [
    {
     "data": {
      "text/html": [
       "<div>\n",
       "<style scoped>\n",
       "    .dataframe tbody tr th:only-of-type {\n",
       "        vertical-align: middle;\n",
       "    }\n",
       "\n",
       "    .dataframe tbody tr th {\n",
       "        vertical-align: top;\n",
       "    }\n",
       "\n",
       "    .dataframe thead th {\n",
       "        text-align: right;\n",
       "    }\n",
       "</style>\n",
       "<table border=\"1\" class=\"dataframe\">\n",
       "  <thead>\n",
       "    <tr style=\"text-align: right;\">\n",
       "      <th></th>\n",
       "      <th>label</th>\n",
       "      <th>text</th>\n",
       "    </tr>\n",
       "  </thead>\n",
       "  <tbody>\n",
       "    <tr>\n",
       "      <th>0</th>\n",
       "      <td>1</td>\n",
       "      <td>[toronto's, italian, community, already, mobil...</td>\n",
       "    </tr>\n",
       "    <tr>\n",
       "      <th>1</th>\n",
       "      <td>1</td>\n",
       "      <td>[@someuser, friends, ,, sound, off, !, everyon...</td>\n",
       "    </tr>\n",
       "  </tbody>\n",
       "</table>\n",
       "</div>"
      ],
      "text/plain": [
       "   label                                               text\n",
       "0      1  [toronto's, italian, community, already, mobil...\n",
       "1      1  [@someuser, friends, ,, sound, off, !, everyon..."
      ]
     },
     "execution_count": 12,
     "metadata": {},
     "output_type": "execute_result"
    }
   ],
   "source": [
    "tdf.head(2)"
   ]
  },
  {
   "cell_type": "markdown",
   "metadata": {},
   "source": [
    "# SVM Classification Without Normalization"
   ]
  },
  {
   "cell_type": "code",
   "execution_count": 72,
   "metadata": {},
   "outputs": [],
   "source": [
    "classifier = Pipeline([\n",
    "    ('tfidf', TfidfVectorizer(preprocessor=lambda x: x, tokenizer=lambda x: x, lowercase=True)),\n",
    "    ('clf', LinearSVC(multi_class='ovr'))\n",
    "])"
   ]
  },
  {
   "cell_type": "code",
   "execution_count": 73,
   "metadata": {},
   "outputs": [],
   "source": [
    "scores = cross_validate(classifier, tdf['text'], tdf['label'], scoring=scoring, cv=10, return_train_score=False)"
   ]
  },
  {
   "cell_type": "code",
   "execution_count": 219,
   "metadata": {},
   "outputs": [
    {
     "name": "stdout",
     "output_type": "stream",
     "text": [
      "recall 0.829619851087\n",
      "precision 0.814832694457\n"
     ]
    }
   ],
   "source": [
    "for x in scores:\n",
    "    if 'test' in x:\n",
    "        print(x[5:], sum(scores[x])/10)"
   ]
  },
  {
   "cell_type": "markdown",
   "metadata": {},
   "source": [
    "# Contextual Normalization"
   ]
  },
  {
   "cell_type": "markdown",
   "metadata": {},
   "source": [
    "##### Some numbers\n",
    "\n",
    "len(model.wv.vocab): 43867\n",
    "\n",
    "len(long_words): 43010\n",
    "\n",
    "count_eng: 6903"
   ]
  },
  {
   "cell_type": "markdown",
   "metadata": {},
   "source": [
    "##### Find word couples by contextual similarity and edit distance"
   ]
  },
  {
   "cell_type": "code",
   "execution_count": 40,
   "metadata": {},
   "outputs": [],
   "source": [
    "long_words = []\n",
    "word_couples = []\n",
    "for word in model.wv.vocab:\n",
    "    sim_frst = None\n",
    "    sim_scnd = None\n",
    "    try:\n",
    "        if len(word) > 1:\n",
    "            \n",
    "            long_words.append(word)\n",
    "            \n",
    "            sim_list = model.wv.most_similar(word)\n",
    "            \n",
    "            len_first = len(sim_list[0][0])\n",
    "            ed_first = editdistance.eval(word, sim_list[0][0])\n",
    "            if sim_list[0][1] > 0.80:\n",
    "                if len_first >= 6 and ed_first < 3:\n",
    "                    sim_frst = sim_list[0]\n",
    "                elif 6 > len_first > 1 and ed_first < 2:\n",
    "                    sim_frst = sim_list[0]\n",
    "                \n",
    "            len_scnd = len(sim_list[1][0])\n",
    "            ed_scnd = editdistance.eval(word, sim_list[1][0])\n",
    "            if sim_list[1][1] > 0.80:\n",
    "                if len_scnd >= 6 and ed_scnd < 3:\n",
    "                    sim_scnd = sim_list[1]\n",
    "                elif 6 > len_scnd > 1 and ed_scnd < 2:\n",
    "                    sim_scnd = sim_list[1]\n",
    "                \n",
    "            if sim_frst or sim_scnd:\n",
    "                \n",
    "                if sim_frst and sim_scnd:\n",
    "                    if ed_first > ed_scnd:\n",
    "                        most_sim = sim_scnd\n",
    "                    else:\n",
    "                        most_sim = sim_frst\n",
    "                elif sim_frst and not sim_scnd:\n",
    "                    most_sim = sim_frst\n",
    "                elif sim_scnd and not sim_frst:\n",
    "                    most_sim = sim_scnd\n",
    "                    \n",
    "#                 print(word, most_sim[0], most_sim[1])\n",
    "                couple = {'word': word, 'most_sim': most_sim[0], 'similarity': most_sim[1]}\n",
    "                if couple not in word_couples:\n",
    "                        word_couples.append(couple)\n",
    "                    \n",
    "    except Exception as e:\n",
    "        pass\n",
    "#         print(e)"
   ]
  },
  {
   "cell_type": "markdown",
   "metadata": {},
   "source": [
    "##### Some examples\n",
    "\n",
    "{'most_sim': 'fuck', 'similarity': 0.896193265914917, 'word': 'fucking'},\n",
    " \n",
    " {'most_sim': 'women', 'similarity': 0.9045039415359497, 'word': 'men'},\n",
    " \n",
    " {'most_sim': 'earthquake-hit', 'similarity': 0.884941041469574,'word': 'quake-hit'},\n",
    " \n",
    " {'most_sim': 'reading', 'similarity': 0.9149921536445618, 'word': 'hearing'},\n",
    " \n",
    " {'most_sim': 'horrible', 'similarity': 0.9077590703964233, 'word': 'terrible'},\n",
    " \n",
    " {'most_sim': 'levelling', 'similarity': 0.9155386686325073, 'word': 'leveling'},\n",
    " \n",
    " {'most_sim': 'didnt', 'similarity': 0.8618503212928772, 'word': \"didn't\"},\n",
    " \n",
    " {'most_sim': 'worrying', 'similarity': 0.8041735887527466, 'word': 'worring'},\n",
    " \n",
    " {'most_sim': 'sympathises', 'similarity': 0.9335030317306519, 'word': 'sympathizes'},\n",
    " \n",
    " {'most_sim': 'telling', 'similarity': 0.8421267867088318, 'word': 'calling'},\n",
    " ('#n3rdlife', '#nerdlife'),\n",
    " \n",
    " ('gurdwara', 'gurudwara'),\n",
    " ('gurdwaras', \"gurudwara's\"),\n",
    " ('gurdwaras', 'gurudwaras'),\n",
    " \n",
    " ('northeast', 'north-east'),\n",
    " \n",
    " ('richter', 'ritcher'),\n",
    "\n",
    " ('#emergency', '#emergenza'),"
   ]
  },
  {
   "cell_type": "markdown",
   "metadata": {},
   "source": [
    "##### Save the couples to a file"
   ]
  },
  {
   "cell_type": "raw",
   "metadata": {},
   "source": [
    "file_name = 'first_second_non-en_080_' + str(len(word_couples)) + '.json\n",
    "gi.save_to_file(data_=word_couples, file_path='veri/normalization_lists/' + file_name, file_format='json')\n",
    "print('veri/normalization_lists/' + file_name)"
   ]
  },
  {
   "cell_type": "markdown",
   "metadata": {},
   "source": [
    "##### Load couples from file"
   ]
  },
  {
   "cell_type": "code",
   "execution_count": 13,
   "metadata": {},
   "outputs": [
    {
     "data": {
      "text/plain": [
       "546"
      ]
     },
     "execution_count": 13,
     "metadata": {},
     "output_type": "execute_result"
    }
   ],
   "source": [
    "word_couples = gi.load_from_file(file_path='veri/normalization_lists/first_second_non-en_080_546.json')\n",
    "len(word_couples)"
   ]
  },
  {
   "cell_type": "markdown",
   "metadata": {},
   "source": [
    "##### Create the list of words to be replaced by each other (and convert the list into dataframe)"
   ]
  },
  {
   "cell_type": "code",
   "execution_count": 14,
   "metadata": {},
   "outputs": [
    {
     "data": {
      "text/plain": [
       "229"
      ]
     },
     "execution_count": 14,
     "metadata": {},
     "output_type": "execute_result"
    }
   ],
   "source": [
    "norm_list = []\n",
    "for w in word_couples:\n",
    "    if not re.match(r'.*\\d+', w['most_sim']):\n",
    "        if len(w['word']) < len(w['most_sim']):\n",
    "            couple = (w['word'], w['most_sim'])\n",
    "        else:\n",
    "            couple = (w['most_sim'], w['word'])\n",
    "        if couple not in norm_list and tuple(reversed(couple)) not in norm_list:\n",
    "            norm_list.append(couple)\n",
    "norm_list.sort()\n",
    "norm_df = pd.DataFrame(norm_list, columns=[\"word\", \"most_sim\"])\n",
    "len(norm_df)"
   ]
  },
  {
   "cell_type": "markdown",
   "metadata": {},
   "source": [
    "##### Load the training data"
   ]
  },
  {
   "cell_type": "code",
   "execution_count": 207,
   "metadata": {},
   "outputs": [],
   "source": [
    "tdf = load_data()\n",
    "tdf_list = tdf.to_dict(orient=\"records\")"
   ]
  },
  {
   "cell_type": "markdown",
   "metadata": {},
   "source": [
    "##### Normalization by Replacement"
   ]
  },
  {
   "cell_type": "code",
   "execution_count": 208,
   "metadata": {},
   "outputs": [],
   "source": [
    "replaced_words = {}\n",
    "for tweet_dict in tdf_list:\n",
    "    for i, word in enumerate(tweet_dict['text']):\n",
    "        if word in list(norm_df['word']):\n",
    "            rep_word = norm_df.loc[norm_df['word'] == word]['most_sim'].iloc[0]\n",
    "            couple_str = word + '-' + rep_word\n",
    "            if couple_str not in replaced_words:\n",
    "                replaced_words[couple_str] = 0\n",
    "            replaced_words[couple_str] += 1\n",
    "            tweet_dict['text'][i] = rep_word"
   ]
  },
  {
   "cell_type": "code",
   "execution_count": 211,
   "metadata": {
    "scrolled": true
   },
   "outputs": [
    {
     "data": {
      "text/plain": [
       "(70,\n",
       " 1146,\n",
       " {'#scary-#scared': 1,\n",
       "  '<b>-</b>': 1,\n",
       "  'abc-bbc': 16,\n",
       "  'anguish-#anguish': 1,\n",
       "  'ap-afp': 29,\n",
       "  'brits-britons': 12,\n",
       "  'centre-center': 5,\n",
       "  'collapse-collapses': 6,\n",
       "  'comment-comments': 1,\n",
       "  'continue-continues': 18,\n",
       "  'da-d:': 1,\n",
       "  'damages-damaged': 25,\n",
       "  'donating-donations': 19,\n",
       "  'donation-donations': 13,\n",
       "  'ear-eart': 3,\n",
       "  'earthq-earthqu': 5,\n",
       "  'earthqu-earthqua': 2,\n",
       "  'eath-#death': 3,\n",
       "  'effected-affected': 1,\n",
       "  'effort-efforts': 9,\n",
       "  'epicentre-epicenter': 5,\n",
       "  'ever-never': 1,\n",
       "  'favorite-favourite': 1,\n",
       "  'fund-funds': 28,\n",
       "  \"he's-she's\": 1,\n",
       "  'he-she': 6,\n",
       "  'heads-headed': 1,\n",
       "  'hearing-reading': 3,\n",
       "  'ita-ital': 3,\n",
       "  'launch-launches': 1,\n",
       "  'leveled-levelled': 3,\n",
       "  'line-lines': 2,\n",
       "  'magnitute-#magnitude': 1,\n",
       "  'make-take': 8,\n",
       "  'min-0min': 1,\n",
       "  'monday-sunday': 1,\n",
       "  \"morning-morning's\": 18,\n",
       "  \"mornings-morning's\": 1,\n",
       "  'ne-se': 3,\n",
       "  'northeast-north-east': 4,\n",
       "  'nytimes-latimes': 1,\n",
       "  'offer-offers': 7,\n",
       "  'part-parts': 5,\n",
       "  'password-passwords': 18,\n",
       "  'queen-#queen': 2,\n",
       "  'race-raced': 18,\n",
       "  'realize-realise': 1,\n",
       "  'reduced-reduces': 5,\n",
       "  'rescue-rescuers': 138,\n",
       "  'richter-ritcher': 3,\n",
       "  'romanian-#romanians': 2,\n",
       "  'romanians-#romanians': 14,\n",
       "  'sauce-sauces': 1,\n",
       "  'scene-scenes': 4,\n",
       "  'seems-seemed': 2,\n",
       "  'sincere-sincerest': 1,\n",
       "  'southern-northern': 1,\n",
       "  'str-stru': 2,\n",
       "  'sw-nw': 1,\n",
       "  'tbn-@tbn': 1,\n",
       "  'terrible-horrible': 18,\n",
       "  'toll-tolls': 622,\n",
       "  'tron-#tron': 1,\n",
       "  'union-unions': 2,\n",
       "  'voices-#voices': 1,\n",
       "  'wiped-wipes': 3,\n",
       "  'word-words': 2,\n",
       "  'would-could': 5,\n",
       "  'ya-yea': 1,\n",
       "  'yrs-hrs': 1})"
      ]
     },
     "execution_count": 211,
     "metadata": {},
     "output_type": "execute_result"
    }
   ],
   "source": [
    "len(replaced_words), sum(replaced_words.values()), replaced_words"
   ]
  },
  {
   "cell_type": "markdown",
   "metadata": {},
   "source": [
    "##### Convert normalized data into dataframe"
   ]
  },
  {
   "cell_type": "code",
   "execution_count": 190,
   "metadata": {},
   "outputs": [],
   "source": [
    "tdf_normalized = pd.DataFrame(tdf_list)"
   ]
  },
  {
   "cell_type": "markdown",
   "metadata": {},
   "source": [
    "##### Define the classifier"
   ]
  },
  {
   "cell_type": "code",
   "execution_count": 191,
   "metadata": {},
   "outputs": [],
   "source": [
    "classifier_norm = Pipeline([\n",
    "    ('tfidf', TfidfVectorizer(preprocessor=lambda x: x, tokenizer=lambda x: x, lowercase=True)),\n",
    "    ('clf', LinearSVC(multi_class='ovr'))\n",
    "])"
   ]
  },
  {
   "cell_type": "markdown",
   "metadata": {},
   "source": [
    "##### Run 10-fold cross-validation with the normalized data"
   ]
  },
  {
   "cell_type": "code",
   "execution_count": 192,
   "metadata": {},
   "outputs": [],
   "source": [
    "scores_norm = cross_validate(classifier_norm, tdf_normalized['text'], tdf_normalized['label'], scoring=scoring, cv=10, return_train_score=False)"
   ]
  },
  {
   "cell_type": "markdown",
   "metadata": {},
   "source": [
    "##### Scores of SVM with contextually normalized data"
   ]
  },
  {
   "cell_type": "code",
   "execution_count": 221,
   "metadata": {},
   "outputs": [
    {
     "name": "stdout",
     "output_type": "stream",
     "text": [
      "recall 0.830396518241\n",
      "precision 0.81446420177\n"
     ]
    }
   ],
   "source": [
    "for x in scores_norm:\n",
    "    if 'test' in x:\n",
    "        print(x[5:], sum(scores_norm[x])/10)"
   ]
  },
  {
   "cell_type": "markdown",
   "metadata": {},
   "source": [
    "# Normalization with Dictionary Lookup"
   ]
  },
  {
   "cell_type": "markdown",
   "metadata": {},
   "source": [
    "###### Load the normalization dictionaries"
   ]
  },
  {
   "cell_type": "code",
   "execution_count": 25,
   "metadata": {},
   "outputs": [
    {
     "name": "stdout",
     "output_type": "stream",
     "text": [
      "3802\n",
      "44983\n"
     ]
    }
   ],
   "source": [
    "norm_list = []\n",
    "with open('veri/normalization_dict/Test_Set_3802_Pairs.txt', 'r') as f:\n",
    "    for line in f.readlines():\n",
    "        norm_list.append((line.split()[1],line.split()[3]))\n",
    "        \n",
    "print(len(norm_list))\n",
    "        \n",
    "with open('veri/normalization_dict/emnlp_dict.txt', 'r') as f:\n",
    "    for line in f.readlines():\n",
    "        norm_list.append((line.split()[0],line.split()[1]))\n",
    "        \n",
    "print(len(norm_list))"
   ]
  },
  {
   "cell_type": "code",
   "execution_count": 16,
   "metadata": {},
   "outputs": [],
   "source": [
    "norm_list.sort()\n",
    "norm_df = pd.DataFrame(norm_list, columns=[\"word\", \"most_sim\"])"
   ]
  },
  {
   "cell_type": "markdown",
   "metadata": {},
   "source": [
    "##### Load the training data"
   ]
  },
  {
   "cell_type": "code",
   "execution_count": 17,
   "metadata": {},
   "outputs": [],
   "source": [
    "tdf = load_data()\n",
    "tdf_list = tdf.to_dict(orient=\"records\")"
   ]
  },
  {
   "cell_type": "markdown",
   "metadata": {},
   "source": [
    "##### Normalization by Replacement"
   ]
  },
  {
   "cell_type": "code",
   "execution_count": 19,
   "metadata": {},
   "outputs": [],
   "source": [
    "replaced_words = {}\n",
    "for tweet_dict in tdf_list:\n",
    "    for i, word in enumerate(tweet_dict['text']):\n",
    "        if word in list(norm_df['word']):\n",
    "            rep_word = norm_df.loc[norm_df['word'] == word]['most_sim'].iloc[0]\n",
    "            couple_str = word + '-' + rep_word\n",
    "            if couple_str not in replaced_words:\n",
    "                replaced_words[couple_str] = 0\n",
    "            replaced_words[couple_str] += 1\n",
    "            tweet_dict['text'][i] = rep_word"
   ]
  },
  {
   "cell_type": "code",
   "execution_count": 16,
   "metadata": {
    "scrolled": true
   },
   "outputs": [
    {
     "data": {
      "text/plain": [
       "(144,\n",
       " 355,\n",
       " {'2all-all': 1,\n",
       "  '2help-help': 1,\n",
       "  '6miles-miles': 1,\n",
       "  'af-assface': 1,\n",
       "  'afte-after': 3,\n",
       "  'agenc-agency': 1,\n",
       "  'almos-almost': 1,\n",
       "  'angeles-angles': 1,\n",
       "  'ani-and': 1,\n",
       "  'app-application': 1,\n",
       "  'assess-asses': 3,\n",
       "  'atleast-least': 5,\n",
       "  'attn-attention': 1,\n",
       "  'b-be': 1,\n",
       "  'bd-birthday': 1,\n",
       "  'bro-brother': 1,\n",
       "  'busines-business': 2,\n",
       "  'c-see': 2,\n",
       "  'cause-because': 5,\n",
       "  'centra-central': 2,\n",
       "  'centre-center': 5,\n",
       "  'climing-climbing': 1,\n",
       "  'comme-comment': 1,\n",
       "  'communicati-communication': 2,\n",
       "  'coz-because': 1,\n",
       "  'cranston-canton': 1,\n",
       "  'da-the': 1,\n",
       "  'deads-dead': 3,\n",
       "  'dec-december': 1,\n",
       "  'devasting-devastating': 1,\n",
       "  'devestating-devastating': 1,\n",
       "  'dm-deathmatch': 2,\n",
       "  'eart-earth': 4,\n",
       "  'earthqu-earthquake': 2,\n",
       "  'earthquak-earthquake': 4,\n",
       "  'eath-earth': 3,\n",
       "  'eathquake-earthquake': 1,\n",
       "  'eclub-club': 1,\n",
       "  'emphasised-emphasize': 2,\n",
       "  'engadget-gadget': 2,\n",
       "  'epicentre-epicenter': 5,\n",
       "  'esc-escape': 1,\n",
       "  'famil-family': 1,\n",
       "  'fb-facebook': 1,\n",
       "  'fo-for': 1,\n",
       "  'fr-for': 4,\n",
       "  'gaga-gag': 1,\n",
       "  'gma-grandma': 7,\n",
       "  'gon-going': 1,\n",
       "  'goo-go': 1,\n",
       "  'google-goggle': 2,\n",
       "  'govt-government': 1,\n",
       "  'heartwrenching-heartrending': 1,\n",
       "  'hous-house': 1,\n",
       "  'hrs-hours': 2,\n",
       "  'hs-headshot': 1,\n",
       "  \"id-i'd\": 1,\n",
       "  'ii-i': 2,\n",
       "  'infront-front': 1,\n",
       "  'injuried-injured': 1,\n",
       "  \"int'l-international\": 1,\n",
       "  'int-international': 1,\n",
       "  'ita-it': 3,\n",
       "  'itali-italian': 1,\n",
       "  'kille-killed': 1,\n",
       "  'latimes-times': 1,\n",
       "  'lil-little': 1,\n",
       "  'lng-long': 1,\n",
       "  'm-am': 9,\n",
       "  'ma-my': 1,\n",
       "  'mi-my': 2,\n",
       "  'min-minute': 1,\n",
       "  'ministe-minister': 1,\n",
       "  'mo-more': 1,\n",
       "  'moar-more': 1,\n",
       "  'ne-any': 3,\n",
       "  'nos-knows': 1,\n",
       "  'num-number': 1,\n",
       "  'numbe-number': 1,\n",
       "  'nun-nothing': 2,\n",
       "  'nytimes-times': 1,\n",
       "  'o-oh': 3,\n",
       "  'offe-offer': 2,\n",
       "  'offic-office': 1,\n",
       "  'ohh-oh': 2,\n",
       "  'ok-okay': 11,\n",
       "  'ops-operations': 1,\n",
       "  'organisations-organizations': 1,\n",
       "  'organising-organizing': 2,\n",
       "  'orgs-organisations': 4,\n",
       "  'panarmenian-panamanian': 1,\n",
       "  'paypal-pal': 1,\n",
       "  'peolpe-people': 1,\n",
       "  'peoples-people': 1,\n",
       "  'pics-pictures': 4,\n",
       "  'pls-please': 4,\n",
       "  'positivity-positive': 1,\n",
       "  'powerf-powerful': 2,\n",
       "  'powerfu-powerful': 1,\n",
       "  'ppl-people': 7,\n",
       "  'prep-prepare': 1,\n",
       "  'pro-professional': 1,\n",
       "  'qt-cutie': 1,\n",
       "  'r-are': 4,\n",
       "  'rec-record': 1,\n",
       "  'rel-real': 1,\n",
       "  'repubblica-republic': 1,\n",
       "  'responders-responses': 3,\n",
       "  'ritcher-richer': 1,\n",
       "  'routers-router': 2,\n",
       "  'rubb-rub': 2,\n",
       "  's-is': 57,\n",
       "  'sami-sam': 2,\n",
       "  'ss-screenshot': 1,\n",
       "  'str-strength': 2,\n",
       "  'stron-strong': 1,\n",
       "  'th-the': 8,\n",
       "  'tha-the': 1,\n",
       "  'ther-there': 1,\n",
       "  'thru-through': 2,\n",
       "  'tmrw-tomorrow': 2,\n",
       "  'tra-try': 2,\n",
       "  'trappe-trapped': 1,\n",
       "  'tronto-toronto': 11,\n",
       "  'trst-trust': 1,\n",
       "  'tue-tuesday': 2,\n",
       "  'tv-television': 3,\n",
       "  'tx-texas': 1,\n",
       "  'u-you': 11,\n",
       "  'unaccounted-accounted': 5,\n",
       "  'unknow-unknown': 1,\n",
       "  'ur-your': 2,\n",
       "  'username-surname': 2,\n",
       "  've-have': 1,\n",
       "  'villag-village': 1,\n",
       "  'w-with': 11,\n",
       "  'wad-was': 1,\n",
       "  'wel-well': 2,\n",
       "  'wer-were': 1,\n",
       "  'wh-with': 1,\n",
       "  'ya-yeah': 1,\n",
       "  'yr-year': 2,\n",
       "  'yrs-years': 1,\n",
       "  'yung-young': 1})"
      ]
     },
     "execution_count": 16,
     "metadata": {},
     "output_type": "execute_result"
    }
   ],
   "source": [
    "len(replaced_words), sum(replaced_words.values()), replaced_words"
   ]
  },
  {
   "cell_type": "markdown",
   "metadata": {},
   "source": [
    "##### Convert normalized data into dataframe"
   ]
  },
  {
   "cell_type": "code",
   "execution_count": 17,
   "metadata": {},
   "outputs": [],
   "source": [
    "tdf_normalized_dl = pd.DataFrame(tdf_list)"
   ]
  },
  {
   "cell_type": "markdown",
   "metadata": {},
   "source": [
    "##### Define the classifier"
   ]
  },
  {
   "cell_type": "code",
   "execution_count": 18,
   "metadata": {},
   "outputs": [],
   "source": [
    "classifier_norm_dl = Pipeline([\n",
    "    ('tfidf', TfidfVectorizer(preprocessor=lambda x: x, tokenizer=lambda x: x, lowercase=True)),\n",
    "    ('clf', LinearSVC(multi_class='ovr'))\n",
    "])"
   ]
  },
  {
   "cell_type": "markdown",
   "metadata": {},
   "source": [
    "##### Run 10-fold cross-validation with the normalized data"
   ]
  },
  {
   "cell_type": "code",
   "execution_count": 19,
   "metadata": {},
   "outputs": [],
   "source": [
    "scores_norm_dl = cross_validate(classifier_norm_dl, tdf_normalized_dl['text'], tdf_normalized_dl['label'], scoring=scoring, cv=10, return_train_score=False)"
   ]
  },
  {
   "cell_type": "markdown",
   "metadata": {},
   "source": [
    "##### Scores of SVM with data normalized by dictionary lookup"
   ]
  },
  {
   "cell_type": "code",
   "execution_count": 20,
   "metadata": {},
   "outputs": [
    {
     "name": "stdout",
     "output_type": "stream",
     "text": [
      "recall 0.829233762347\n",
      "precision 0.814671588658\n"
     ]
    }
   ],
   "source": [
    "for x in scores_norm_dl:\n",
    "    if 'test' in x:\n",
    "        print(x[5:], sum(scores_norm_dl[x])/10)"
   ]
  },
  {
   "cell_type": "markdown",
   "metadata": {},
   "source": [
    "# Combining Dictionaries"
   ]
  },
  {
   "cell_type": "markdown",
   "metadata": {},
   "source": [
    "##### Normalization by Replacement"
   ]
  },
  {
   "cell_type": "code",
   "execution_count": null,
   "metadata": {},
   "outputs": [],
   "source": [
    "replaced_words = {}\n",
    "for tweet_dict in tdf_list:\n",
    "    for i, word in enumerate(tweet_dict['text']):\n",
    "        if word in list(norm_df['word']):\n",
    "            rep_word = norm_df.loc[norm_df['word'] == word]['most_sim'].iloc[0]\n",
    "            couple_str = word + '-' + rep_word\n",
    "            if couple_str not in replaced_words:\n",
    "                replaced_words[couple_str] = 0\n",
    "            replaced_words[couple_str] += 1\n",
    "            tweet_dict['text'][i] = rep_word"
   ]
  },
  {
   "cell_type": "code",
   "execution_count": 20,
   "metadata": {},
   "outputs": [
    {
     "data": {
      "text/plain": [
       "(202,\n",
       " 1473,\n",
       " {'#scary-#scared': 1,\n",
       "  '2all-all': 1,\n",
       "  '2help-help': 1,\n",
       "  '6miles-miles': 1,\n",
       "  '<b>-</b>': 1,\n",
       "  'abc-bbc': 16,\n",
       "  'af-assface': 1,\n",
       "  'afte-after': 3,\n",
       "  'agenc-agency': 1,\n",
       "  'almos-almost': 1,\n",
       "  'angeles-angles': 1,\n",
       "  'anguish-#anguish': 1,\n",
       "  'ani-and': 1,\n",
       "  'ap-afp': 29,\n",
       "  'app-application': 1,\n",
       "  'assess-asses': 3,\n",
       "  'atleast-least': 5,\n",
       "  'attn-attention': 1,\n",
       "  'b-be': 1,\n",
       "  'bd-birthday': 1,\n",
       "  'brits-britons': 12,\n",
       "  'bro-brother': 1,\n",
       "  'busines-business': 2,\n",
       "  'c-see': 2,\n",
       "  'cause-because': 5,\n",
       "  'centra-central': 2,\n",
       "  'centre-center': 5,\n",
       "  'climing-climbing': 1,\n",
       "  'collapse-collapses': 6,\n",
       "  'comme-comment': 1,\n",
       "  'comment-comments': 1,\n",
       "  'communicati-communication': 2,\n",
       "  'continue-continues': 18,\n",
       "  'coz-because': 1,\n",
       "  'cranston-canton': 1,\n",
       "  'da-d:': 1,\n",
       "  'damages-damaged': 25,\n",
       "  'deads-dead': 3,\n",
       "  'dec-december': 1,\n",
       "  'devasting-devastating': 1,\n",
       "  'devestating-devastating': 1,\n",
       "  'dm-deathmatch': 2,\n",
       "  'donating-donations': 19,\n",
       "  'donation-donations': 13,\n",
       "  'ear-eart': 3,\n",
       "  'eart-earth': 4,\n",
       "  'earthq-earthqu': 5,\n",
       "  'earthqu-earthqua': 2,\n",
       "  'earthquak-earthquake': 4,\n",
       "  'eath-#death': 3,\n",
       "  'eathquake-earthquake': 1,\n",
       "  'eclub-club': 1,\n",
       "  'effected-affected': 1,\n",
       "  'effort-efforts': 9,\n",
       "  'emphasised-emphasize': 2,\n",
       "  'engadget-gadget': 2,\n",
       "  'epicentre-epicenter': 5,\n",
       "  'esc-escape': 1,\n",
       "  'ever-never': 1,\n",
       "  'famil-family': 1,\n",
       "  'favorite-favourite': 1,\n",
       "  'fb-facebook': 1,\n",
       "  'fo-for': 1,\n",
       "  'fr-for': 4,\n",
       "  'fund-funds': 28,\n",
       "  'gaga-gag': 1,\n",
       "  'gma-grandma': 7,\n",
       "  'gon-going': 1,\n",
       "  'goo-go': 1,\n",
       "  'google-goggle': 2,\n",
       "  'govt-government': 1,\n",
       "  \"he's-she's\": 1,\n",
       "  'he-she': 6,\n",
       "  'heads-headed': 1,\n",
       "  'hearing-reading': 3,\n",
       "  'heartwrenching-heartrending': 1,\n",
       "  'hous-house': 1,\n",
       "  'hrs-hours': 2,\n",
       "  'hs-headshot': 1,\n",
       "  \"id-i'd\": 1,\n",
       "  'ii-i': 2,\n",
       "  'infront-front': 1,\n",
       "  'injuried-injured': 1,\n",
       "  \"int'l-international\": 1,\n",
       "  'int-international': 1,\n",
       "  'ita-it': 3,\n",
       "  'itali-italian': 1,\n",
       "  'kille-killed': 1,\n",
       "  'latimes-times': 1,\n",
       "  'launch-launches': 1,\n",
       "  'leveled-levelled': 3,\n",
       "  'lil-little': 1,\n",
       "  'line-lines': 2,\n",
       "  'lng-long': 1,\n",
       "  'm-am': 9,\n",
       "  'ma-my': 1,\n",
       "  'magnitute-#magnitude': 1,\n",
       "  'make-take': 8,\n",
       "  'mi-my': 2,\n",
       "  'min-0min': 1,\n",
       "  'ministe-minister': 1,\n",
       "  'mo-more': 1,\n",
       "  'moar-more': 1,\n",
       "  'monday-sunday': 1,\n",
       "  \"morning-morning's\": 18,\n",
       "  \"mornings-morning's\": 1,\n",
       "  'ne-any': 3,\n",
       "  'northeast-north-east': 4,\n",
       "  'nos-knows': 1,\n",
       "  'num-number': 1,\n",
       "  'numbe-number': 1,\n",
       "  'nun-nothing': 2,\n",
       "  'nytimes-latimes': 1,\n",
       "  'o-oh': 3,\n",
       "  'offe-offer': 2,\n",
       "  'offer-offers': 7,\n",
       "  'offic-office': 1,\n",
       "  'ohh-oh': 2,\n",
       "  'ok-okay': 11,\n",
       "  'ops-operations': 1,\n",
       "  'organisations-organizations': 1,\n",
       "  'organising-organizing': 2,\n",
       "  'orgs-organisations': 4,\n",
       "  'panarmenian-panamanian': 1,\n",
       "  'part-parts': 5,\n",
       "  'password-passwords': 18,\n",
       "  'paypal-pal': 1,\n",
       "  'peolpe-people': 1,\n",
       "  'peoples-people': 1,\n",
       "  'pics-pictures': 4,\n",
       "  'pls-please': 4,\n",
       "  'positivity-positive': 1,\n",
       "  'powerf-powerful': 2,\n",
       "  'powerfu-powerful': 1,\n",
       "  'ppl-people': 7,\n",
       "  'prep-prepare': 1,\n",
       "  'pro-professional': 1,\n",
       "  'qt-cutie': 1,\n",
       "  'queen-#queen': 2,\n",
       "  'r-are': 4,\n",
       "  'race-raced': 18,\n",
       "  'realize-realise': 1,\n",
       "  'rec-record': 1,\n",
       "  'reduced-reduces': 5,\n",
       "  'rel-real': 1,\n",
       "  'repubblica-republic': 1,\n",
       "  'rescue-rescuers': 138,\n",
       "  'responders-responses': 3,\n",
       "  'richter-ritcher': 3,\n",
       "  'ritcher-richer': 1,\n",
       "  'romanian-#romanians': 2,\n",
       "  'romanians-#romanians': 14,\n",
       "  'routers-router': 2,\n",
       "  'rubb-rub': 2,\n",
       "  's-is': 57,\n",
       "  'sami-sam': 2,\n",
       "  'sauce-sauces': 1,\n",
       "  'scene-scenes': 4,\n",
       "  'seems-seemed': 2,\n",
       "  'sincere-sincerest': 1,\n",
       "  'southern-northern': 1,\n",
       "  'ss-screenshot': 1,\n",
       "  'str-strength': 2,\n",
       "  'stron-strong': 1,\n",
       "  'sw-nw': 1,\n",
       "  'tbn-@tbn': 1,\n",
       "  'terrible-horrible': 18,\n",
       "  'th-the': 8,\n",
       "  'tha-the': 1,\n",
       "  'ther-there': 1,\n",
       "  'thru-through': 2,\n",
       "  'tmrw-tomorrow': 2,\n",
       "  'toll-tolls': 622,\n",
       "  'tra-try': 2,\n",
       "  'trappe-trapped': 1,\n",
       "  'tron-#tron': 1,\n",
       "  'tronto-toronto': 11,\n",
       "  'trst-trust': 1,\n",
       "  'tue-tuesday': 2,\n",
       "  'tv-television': 3,\n",
       "  'tx-texas': 1,\n",
       "  'u-you': 11,\n",
       "  'unaccounted-accounted': 5,\n",
       "  'union-unions': 2,\n",
       "  'unknow-unknown': 1,\n",
       "  'ur-your': 2,\n",
       "  'username-surname': 2,\n",
       "  've-have': 1,\n",
       "  'villag-village': 1,\n",
       "  'voices-#voices': 1,\n",
       "  'w-with': 11,\n",
       "  'wad-was': 1,\n",
       "  'wel-well': 2,\n",
       "  'wer-were': 1,\n",
       "  'wh-with': 1,\n",
       "  'wiped-wipes': 3,\n",
       "  'word-words': 2,\n",
       "  'would-could': 5,\n",
       "  'ya-yea': 1,\n",
       "  'yr-year': 2,\n",
       "  'yrs-hrs': 1,\n",
       "  'yung-young': 1})"
      ]
     },
     "execution_count": 20,
     "metadata": {},
     "output_type": "execute_result"
    }
   ],
   "source": [
    "len(replaced_words), sum(replaced_words.values()), replaced_words"
   ]
  },
  {
   "cell_type": "markdown",
   "metadata": {},
   "source": [
    "##### Convert normalized data into dataframe"
   ]
  },
  {
   "cell_type": "code",
   "execution_count": 21,
   "metadata": {},
   "outputs": [],
   "source": [
    "tdf_normalized_dl = pd.DataFrame(tdf_list)"
   ]
  },
  {
   "cell_type": "markdown",
   "metadata": {},
   "source": [
    "##### Define the classifier"
   ]
  },
  {
   "cell_type": "code",
   "execution_count": 22,
   "metadata": {},
   "outputs": [],
   "source": [
    "classifier_norm_dl = Pipeline([\n",
    "    ('tfidf', TfidfVectorizer(preprocessor=lambda x: x, tokenizer=lambda x: x, lowercase=True)),\n",
    "    ('clf', LinearSVC(multi_class='ovr'))\n",
    "])"
   ]
  },
  {
   "cell_type": "markdown",
   "metadata": {},
   "source": [
    "##### Run 10-fold cross-validation with the normalized data"
   ]
  },
  {
   "cell_type": "code",
   "execution_count": 23,
   "metadata": {},
   "outputs": [],
   "source": [
    "scores_norm_dl = cross_validate(classifier_norm_dl, tdf_normalized_dl['text'], tdf_normalized_dl['label'], scoring=scoring, cv=10, return_train_score=False)"
   ]
  },
  {
   "cell_type": "markdown",
   "metadata": {},
   "source": [
    "##### Scores of SVM with  data normalized by both dictionaries and word embeddings "
   ]
  },
  {
   "cell_type": "code",
   "execution_count": 24,
   "metadata": {},
   "outputs": [
    {
     "name": "stdout",
     "output_type": "stream",
     "text": [
      "recall 0.831551872554\n",
      "precision 0.81674748207\n"
     ]
    }
   ],
   "source": [
    "for x in scores_norm_dl:\n",
    "    if 'test' in x:\n",
    "        print(x[5:], sum(scores_norm_dl[x])/10)"
   ]
  },
  {
   "cell_type": "markdown",
   "metadata": {},
   "source": [
    "# Text Classification with Word2vec"
   ]
  },
  {
   "cell_type": "markdown",
   "metadata": {},
   "source": [
    "##### Classifier class"
   ]
  },
  {
   "cell_type": "code",
   "execution_count": 222,
   "metadata": {},
   "outputs": [],
   "source": [
    "# See: http://nadbordrozd.github.io/blog/2016/05/20/text-classification-with-word2vec/\n",
    "class TfidfEmbeddingVectorizer(object):\n",
    "    def __init__(self, word2vec):\n",
    "        self.word2vec = word2vec\n",
    "        self.word2weight = None\n",
    "        self.dim = 100 #len(word2vec.values().next())\n",
    "\n",
    "    def fit(self, X, y):\n",
    "        tfidf = TfidfVectorizer(preprocessor=lambda x: x, tokenizer=lambda x: x, lowercase=True)\n",
    "        tfidf.fit(X)\n",
    "        # if a word was never seen - it must be at least as infrequent\n",
    "        # as any of the known words - so the default idf is the max of \n",
    "        # known idf's\n",
    "        max_idf = max(tfidf.idf_)\n",
    "        self.word2weight = defaultdict(\n",
    "            lambda: max_idf,\n",
    "            [(w, tfidf.idf_[i]) for w, i in tfidf.vocabulary_.items()])\n",
    "\n",
    "        return self\n",
    "\n",
    "    def transform(self, X):\n",
    "        return np.array([\n",
    "                np.mean([self.word2vec[w] * self.word2weight[w]\n",
    "                         for w in words if w in self.word2vec] or\n",
    "                        [np.zeros(self.dim)], axis=0)\n",
    "                for words in X\n",
    "            ])"
   ]
  },
  {
   "cell_type": "markdown",
   "metadata": {},
   "source": [
    "##### Preprocessing for word embeddings"
   ]
  },
  {
   "cell_type": "code",
   "execution_count": 60,
   "metadata": {},
   "outputs": [],
   "source": [
    "w2v = dict(zip(model.wv.index2word, model.wv.syn0))"
   ]
  },
  {
   "cell_type": "markdown",
   "metadata": {},
   "source": [
    "##### Load the training data"
   ]
  },
  {
   "cell_type": "code",
   "execution_count": 223,
   "metadata": {},
   "outputs": [],
   "source": [
    "tdf = load_data()"
   ]
  },
  {
   "cell_type": "markdown",
   "metadata": {},
   "source": [
    "##### Define the classifier"
   ]
  },
  {
   "cell_type": "code",
   "execution_count": 61,
   "metadata": {},
   "outputs": [],
   "source": [
    "classifier_emb = Pipeline([\n",
    "    ('tfidf', TfidfEmbeddingVectorizer(w2v)),\n",
    "    ('clf', LinearSVC(multi_class='ovr'))\n",
    "])"
   ]
  },
  {
   "cell_type": "markdown",
   "metadata": {},
   "source": [
    "##### Run 10-fold cross-validation with word embeddings"
   ]
  },
  {
   "cell_type": "code",
   "execution_count": 62,
   "metadata": {},
   "outputs": [],
   "source": [
    "scores_emb = cross_validate(classifier_emb, tdf['text'], tdf['label'], scoring=scoring, cv=10, return_train_score=False)"
   ]
  },
  {
   "cell_type": "markdown",
   "metadata": {},
   "source": [
    "##### Scores of Text Classification with W2V"
   ]
  },
  {
   "cell_type": "code",
   "execution_count": 225,
   "metadata": {},
   "outputs": [
    {
     "name": "stdout",
     "output_type": "stream",
     "text": [
      "recall 0.792158245338\n",
      "precision 0.767850891193\n"
     ]
    }
   ],
   "source": [
    "for x in scores_emb:\n",
    "    if 'test' in x:\n",
    "        print(x[5:], sum(scores_emb[x])/10)"
   ]
  }
 ],
 "metadata": {
  "kernelspec": {
   "display_name": "Python 3",
   "language": "python",
   "name": "python3"
  },
  "language_info": {
   "codemirror_mode": {
    "name": "ipython",
    "version": 3
   },
   "file_extension": ".py",
   "mimetype": "text/x-python",
   "name": "python",
   "nbconvert_exporter": "python",
   "pygments_lexer": "ipython3",
   "version": "3.5.2"
  }
 },
 "nbformat": 4,
 "nbformat_minor": 2
}
